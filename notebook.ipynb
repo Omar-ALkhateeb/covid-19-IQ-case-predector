{
 "cells": [
  {
   "cell_type": "code",
   "execution_count": 1,
   "metadata": {},
   "outputs": [
    {
     "name": "stdout",
     "output_type": "stream",
     "text": [
      "['Cases ', '1', '1', '8', '9', '9', '32', '32', '67', '71', '71', '79', '79', '110', '124', '133', '154', '164', '192', '208', '214', '233', '266', '316', '346', '382', '458', '506', '547', '630', '695', '728', '772', '820', '878', '961', '1,031', '1,122', '1,202', '1,232', '1,279', '1,318', '1,352', '1,378', '1,400', '1,415', '1,434', '1,482', '1,513', '1,539', '1,574', '1,602', '1,631']\n"
     ]
    }
   ],
   "source": [
    "from bs4 import BeautifulSoup\n",
    "import re\n",
    "\n",
    "from urllib.request import urlopen\n",
    "html = urlopen(\"https://en.wikipedia.org/wiki/Timeline_of_the_2020_coronavirus_pandemic_in_Iraq#cite_note-1\").read()\n",
    "# print(html)\n",
    "cases = []\n",
    "dates = []\n",
    "Deaths = []\n",
    "soup = BeautifulSoup(html)\n",
    "chart = soup.find('div', attrs={'class': 'barbox tright'})\n",
    "for elt in soup.find_all('tr'):\n",
    "    if(len(elt)>=4):\n",
    "        date,_,case,death = elt.find_all('td')\n",
    "        cases.append(case.text.split('(')[0] if case.text else 0)\n",
    "        # cases.append(case.text.split('(')[1] if case.text else 0)\n",
    "        dates.append(date.text)\n",
    "        Deaths.append(death.text.split('(')[0] if death.text else 0)\n",
    "    \n",
    "\n",
    "print(cases)"
   ]
  },
  {
   "cell_type": "code",
   "execution_count": 2,
   "metadata": {},
   "outputs": [
    {
     "name": "stdout",
     "output_type": "stream",
     "text": [
      "60 60 60\n"
     ]
    },
    {
     "data": {
      "text/html": [
       "<div>\n",
       "<style scoped>\n",
       "    .dataframe tbody tr th:only-of-type {\n",
       "        vertical-align: middle;\n",
       "    }\n",
       "\n",
       "    .dataframe tbody tr th {\n",
       "        vertical-align: top;\n",
       "    }\n",
       "\n",
       "    .dataframe thead th {\n",
       "        text-align: right;\n",
       "    }\n",
       "</style>\n",
       "<table border=\"1\" class=\"dataframe\">\n",
       "  <thead>\n",
       "    <tr style=\"text-align: right;\">\n",
       "      <th></th>\n",
       "      <th>Cases</th>\n",
       "      <th>Deaths</th>\n",
       "    </tr>\n",
       "    <tr>\n",
       "      <th>Dates</th>\n",
       "      <th></th>\n",
       "      <th></th>\n",
       "    </tr>\n",
       "  </thead>\n",
       "  <tbody>\n",
       "    <tr>\n",
       "      <th>2020-02-24</th>\n",
       "      <td>1</td>\n",
       "      <td>0</td>\n",
       "    </tr>\n",
       "    <tr>\n",
       "      <th>2020-02-25</th>\n",
       "      <td>1</td>\n",
       "      <td>0</td>\n",
       "    </tr>\n",
       "    <tr>\n",
       "      <th>2020-02-26</th>\n",
       "      <td>1</td>\n",
       "      <td>0</td>\n",
       "    </tr>\n",
       "    <tr>\n",
       "      <th>2020-02-27</th>\n",
       "      <td>1</td>\n",
       "      <td>0</td>\n",
       "    </tr>\n",
       "    <tr>\n",
       "      <th>2020-02-28</th>\n",
       "      <td>1</td>\n",
       "      <td>0</td>\n",
       "    </tr>\n",
       "  </tbody>\n",
       "</table>\n",
       "</div>"
      ],
      "text/plain": [
       "            Cases  Deaths\n",
       "Dates                    \n",
       "2020-02-24      1       0\n",
       "2020-02-25      1       0\n",
       "2020-02-26      1       0\n",
       "2020-02-27      1       0\n",
       "2020-02-28      1       0"
      ]
     },
     "execution_count": 2,
     "metadata": {},
     "output_type": "execute_result"
    }
   ],
   "source": [
    "import pandas as pd\n",
    "from datetime import date\n",
    "import datetime\n",
    "\n",
    "\n",
    "\n",
    "# cleaning up data\n",
    "for i in range(len(dates)):\n",
    "    if('⋮' in dates[i]):\n",
    "        start = datetime.datetime.strptime(dates[i-1], \"%Y-%m-%d\")\n",
    "        start +=datetime.timedelta(days=1)\n",
    "        end = datetime.datetime.strptime(dates[i+1], \"%Y-%m-%d\")\n",
    "        date_array = \\\n",
    "        [start + datetime.timedelta(days=x) for x in range(0, (end-start).days)]\n",
    "        \n",
    "        dates.pop(i)\n",
    "        d=Deaths.pop(i)\n",
    "        c=cases.pop(i)\n",
    "        \n",
    "        new_counter = i\n",
    "        for date_object in date_array:\n",
    "            # print(date_object.strftime(\"%Y-%m-%d\"))\n",
    "            dates.insert(new_counter, date_object.strftime(\"%Y-%m-%d\"))\n",
    "            Deaths.insert(new_counter, d)\n",
    "            cases.insert(new_counter, c)\n",
    "            new_counter+=1\n",
    "            \n",
    "for i in range(len(dates)):\n",
    "    if('⋮' in dates[i]):\n",
    "        dates.pop(i)\n",
    "        Deaths.pop(i)\n",
    "        cases.pop(i)            \n",
    "            \n",
    "for i in range(1, len(cases)):\n",
    "    if type(cases[i]) is str:\n",
    "        cases[i]=int(cases[i].replace(',',''))\n",
    "    elif type(cases[i]) is float:\n",
    "        cases[i]=int(cases[i])\n",
    "    if type(Deaths[i]) is str:\n",
    "        Deaths[i]=int(Deaths[i].replace(',',''))\n",
    "    elif type(Deaths[i]) is float:\n",
    "        Deaths[i]=int(Deaths[i])\n",
    "            \n",
    "            \n",
    "    \n",
    "print(len(dates),len(Deaths),len(cases))\n",
    "df = pd.DataFrame({'Cases': cases[1:], 'Dates': dates[1:], 'Deaths': Deaths[1:]})\n",
    "# df = df.drop(df[df.Dates == '⋮'].index)\n",
    "df.set_index('Dates', inplace=True)\n",
    "df.head()\n",
    "\n",
    "# print(cases, dates, precentages)"
   ]
  },
  {
   "cell_type": "code",
   "execution_count": 3,
   "metadata": {},
   "outputs": [
    {
     "name": "stdout",
     "output_type": "stream",
     "text": [
      "55\n"
     ]
    }
   ],
   "source": [
    "start = datetime.datetime.strptime(\"2020-02-24\", \"%Y-%m-%d\")\n",
    "end = datetime.datetime.strptime(\"2020-04-19\", \"%Y-%m-%d\")\n",
    "date_array = \\\n",
    "len([start + datetime.timedelta(days=x) for x in range(0, (end-start).days)])\n",
    "print(date_array)"
   ]
  },
  {
   "cell_type": "code",
   "execution_count": 4,
   "metadata": {},
   "outputs": [],
   "source": [
    "df.to_csv(\"formatted-data.csv\")"
   ]
  },
  {
   "cell_type": "code",
   "execution_count": 23,
   "metadata": {},
   "outputs": [
    {
     "data": {
      "text/plain": [
       "array([<matplotlib.axes._subplots.AxesSubplot object at 0x000002213C268208>],\n",
       "      dtype=object)"
      ]
     },
     "execution_count": 23,
     "metadata": {},
     "output_type": "execute_result"
    },
    {
     "data": {
      "image/png": "[encoded data removed]",
      "text/plain": [
       "<Figure size 432x288 with 1 Axes>"
      ]
     },
     "metadata": {
      "needs_background": "light"
     },
     "output_type": "display_data"
    }
   ],
   "source": [
    "import tensorflow as tf\n",
    "\n",
    "import matplotlib as mpl\n",
    "import matplotlib.pyplot as plt\n",
    "import numpy as np\n",
    "import os\n",
    "import pandas as pd\n",
    "\n",
    "\n",
    "# to reproduce same results\n",
    "tf.random.set_seed(1234)\n",
    "\n",
    "# mpl.rcParams['figure.figsize'] = (8, 6)\n",
    "# mpl.rcParams['axes.grid'] = False\n",
    "\n",
    "\n",
    "# filtering my dataset to only use cases row\n",
    "\n",
    "data = df.filter(['Cases'])\n",
    "data.plot(subplots=True)"
   ]
  },
  {
   "cell_type": "code",
   "execution_count": 24,
   "metadata": {},
   "outputs": [],
   "source": [
    "import math\n",
    "dataset = data.values\n",
    "training_data_len = math.ceil( len(dataset) *.8) "
   ]
  },
  {
   "cell_type": "code",
   "execution_count": 25,
   "metadata": {},
   "outputs": [
    {
     "name": "stdout",
     "output_type": "stream",
     "text": [
      "Num GPUs Available:  1\n"
     ]
    },
    {
     "data": {
      "text/plain": [
       "True"
      ]
     },
     "execution_count": 25,
     "metadata": {},
     "output_type": "execute_result"
    }
   ],
   "source": [
    "print(\"Num GPUs Available: \", len(tf.config.experimental.list_physical_devices('GPU')))\n",
    "tf.test.is_gpu_available()"
   ]
  },
  {
   "cell_type": "code",
   "execution_count": 56,
   "metadata": {},
   "outputs": [],
   "source": [
    "from sklearn.preprocessing import MinMaxScaler\n",
    "from tensorflow.keras.models import Sequential\n",
    "from tensorflow.keras.layers import Dense, LSTM, Dropout\n"
   ]
  },
  {
   "cell_type": "code",
   "execution_count": 27,
   "metadata": {},
   "outputs": [],
   "source": [
    "scaler = MinMaxScaler(feature_range=(0, 1)) \n",
    "scaled_data = scaler.fit_transform(dataset)"
   ]
  },
  {
   "cell_type": "code",
   "execution_count": 28,
   "metadata": {},
   "outputs": [
    {
     "name": "stdout",
     "output_type": "stream",
     "text": [
      "43\n",
      "43\n"
     ]
    }
   ],
   "source": [
    "#Create the scaled training data set \n",
    "train_data = scaled_data[0:training_data_len  , : ]#Split the data into x_train and y_train data sets\n",
    "x_train=[]\n",
    "y_train = []\n",
    "for i in range(5,len(train_data)):\n",
    "    # for every 5 numbers going to x (input) 1 goes to y (expected output)\n",
    "    x_train.append(train_data[i-5:i,0])\n",
    "    y_train.append(train_data[i,0])\n",
    "    \n",
    "\n",
    "    \n",
    "print(len(y_train))\n",
    "print(len(x_train))"
   ]
  },
  {
   "cell_type": "code",
   "execution_count": 29,
   "metadata": {},
   "outputs": [
    {
     "name": "stdout",
     "output_type": "stream",
     "text": [
      "(43,)\n",
      "(43, 5)\n"
     ]
    }
   ],
   "source": [
    "#Convert x_train and y_train to numpy arrays\n",
    "x_train, y_train = np.array(x_train), np.array(y_train)\n",
    "print(y_train.shape)\n",
    "print(x_train.shape)"
   ]
  },
  {
   "cell_type": "code",
   "execution_count": 30,
   "metadata": {},
   "outputs": [
    {
     "data": {
      "text/plain": [
       "(43, 5, 1)"
      ]
     },
     "execution_count": 30,
     "metadata": {},
     "output_type": "execute_result"
    }
   ],
   "source": [
    "#Reshape the data into the shape accepted by the LSTM\n",
    "x_train = np.reshape(x_train, (x_train.shape[0],x_train.shape[1],1))\n",
    "# (40, 5) to (40, 5, 1)\n",
    "x_train.shape"
   ]
  },
  {
   "cell_type": "code",
   "execution_count": 67,
   "metadata": {},
   "outputs": [],
   "source": [
    "#Build the LSTM network model\n",
    "model = Sequential()\n",
    "model.add(LSTM(units=100, return_sequences=True,input_shape=(x_train.shape[1],1)))\n",
    "model.add(LSTM(units=100, return_sequences=False))\n",
    "model.add(Dropout(0.2))\n",
    "model.add(Dense(units=25))\n",
    "model.add(Dense(units=1))\n",
    "\n",
    "\n",
    "\n",
    "\n",
    "#Compile the model\n",
    "model.compile(optimizer='adam', loss='mean_squared_error')"
   ]
  },
  {
   "cell_type": "code",
   "execution_count": 84,
   "metadata": {},
   "outputs": [
    {
     "name": "stdout",
     "output_type": "stream",
     "text": [
      "Train on 43 samples\n",
      "Epoch 1/26\n",
      "43/43 [==============================] - 1s 33ms/sample - loss: 0.0011\n",
      "Epoch 2/26\n",
      "43/43 [==============================] - 0s 1ms/sample - loss: 5.9885e-04\n",
      "Epoch 3/26\n",
      "43/43 [==============================] - 0s 1ms/sample - loss: 3.1977e-04\n",
      "Epoch 4/26\n",
      "43/43 [==============================] - 0s 1ms/sample - loss: 7.3088e-04\n",
      "Epoch 5/26\n",
      "43/43 [==============================] - 0s 1ms/sample - loss: 8.4870e-04\n",
      "Epoch 6/26\n",
      "43/43 [==============================] - 0s 1ms/sample - loss: 5.9155e-04\n",
      "Epoch 7/26\n",
      "43/43 [==============================] - 0s 1ms/sample - loss: 6.8332e-04\n",
      "Epoch 8/26\n",
      "43/43 [==============================] - 0s 1ms/sample - loss: 8.7146e-04\n",
      "Epoch 9/26\n",
      "43/43 [==============================] - 0s 1ms/sample - loss: 5.1189e-04\n",
      "Epoch 10/26\n",
      "43/43 [==============================] - 0s 1ms/sample - loss: 3.8420e-04\n",
      "Epoch 11/26\n",
      "43/43 [==============================] - 0s 1ms/sample - loss: 2.7464e-04\n",
      "Epoch 12/26\n",
      "43/43 [==============================] - 0s 1ms/sample - loss: 4.5855e-04\n",
      "Epoch 13/26\n",
      "43/43 [==============================] - 0s 1ms/sample - loss: 5.3131e-04\n",
      "Epoch 14/26\n",
      "43/43 [==============================] - 0s 1ms/sample - loss: 3.9653e-04\n",
      "Epoch 15/26\n",
      "43/43 [==============================] - 0s 1ms/sample - loss: 3.4641e-04\n",
      "Epoch 16/26\n",
      "43/43 [==============================] - 0s 1ms/sample - loss: 5.0968e-04\n",
      "Epoch 17/26\n",
      "43/43 [==============================] - 0s 1ms/sample - loss: 4.9890e-04\n",
      "Epoch 18/26\n",
      "43/43 [==============================] - 0s 1ms/sample - loss: 4.5556e-04\n",
      "Epoch 19/26\n",
      "43/43 [==============================] - 0s 1ms/sample - loss: 3.4277e-04\n",
      "Epoch 20/26\n",
      "43/43 [==============================] - 0s 1ms/sample - loss: 4.6894e-04\n",
      "Epoch 21/26\n",
      "43/43 [==============================] - 0s 1ms/sample - loss: 4.2122e-04\n",
      "Epoch 22/26\n",
      "43/43 [==============================] - 0s 1ms/sample - loss: 5.3480e-04\n",
      "Epoch 23/26\n",
      "43/43 [==============================] - 0s 1ms/sample - loss: 4.1760e-04\n",
      "Epoch 24/26\n",
      "43/43 [==============================] - 0s 1ms/sample - loss: 6.9750e-04\n",
      "Epoch 25/26\n",
      "43/43 [==============================] - 0s 1ms/sample - loss: 5.6021e-04\n",
      "Epoch 26/26\n",
      "43/43 [==============================] - 0s 1ms/sample - loss: 4.9265e-04\n"
     ]
    },
    {
     "data": {
      "text/plain": [
       "<tensorflow.python.keras.callbacks.History at 0x221613f8208>"
      ]
     },
     "execution_count": 84,
     "metadata": {},
     "output_type": "execute_result"
    }
   ],
   "source": [
    "#Train the model\n",
    "model.fit(x_train, y_train, batch_size=5, epochs=26)"
   ]
  },
  {
   "cell_type": "code",
   "execution_count": 85,
   "metadata": {},
   "outputs": [],
   "source": [
    "#Test data set\n",
    "#basicaly the same thing i did with the train data set\n",
    "test_data = scaled_data[training_data_len - 5: , : ]#Create the x_test and y_test data sets\n",
    "x_test = []\n",
    "y_test =  dataset[training_data_len : , : ] #Get all of the rows from index 1603 to the rest and all of the columns (in this case it's only column 'Close'), so 2003 - 1603 = 400 rows of data\n",
    "for i in range(5,len(test_data)):\n",
    "    x_test.append(test_data[i-5:i,0])"
   ]
  },
  {
   "cell_type": "code",
   "execution_count": 86,
   "metadata": {},
   "outputs": [
    {
     "data": {
      "text/plain": [
       "(11, 5, 1)"
      ]
     },
     "execution_count": 86,
     "metadata": {},
     "output_type": "execute_result"
    }
   ],
   "source": [
    "#Convert x_test to a numpy array \n",
    "x_test = np.array(x_test)\n",
    "\n",
    "#Reshape the data into the shape accepted by the LSTM\n",
    "x_test = np.reshape(x_test, (x_test.shape[0],x_test.shape[1],1))\n",
    "x_test.shape"
   ]
  },
  {
   "cell_type": "code",
   "execution_count": 87,
   "metadata": {},
   "outputs": [],
   "source": [
    "#Getting the models predicted price values\n",
    "predictions = model.predict(x_test) \n",
    "predictions = scaler.inverse_transform(predictions)#Undo scaling"
   ]
  },
  {
   "cell_type": "code",
   "execution_count": 88,
   "metadata": {},
   "outputs": [
    {
     "data": {
      "text/plain": [
       "41.14933897583815"
      ]
     },
     "execution_count": 88,
     "metadata": {},
     "output_type": "execute_result"
    }
   ],
   "source": [
    "#Calculate/Get the value of RMSE\n",
    "rmse=np.sqrt(np.mean(((predictions- y_test)**2)))\n",
    "rmse"
   ]
  },
  {
   "cell_type": "code",
   "execution_count": 89,
   "metadata": {},
   "outputs": [
    {
     "name": "stderr",
     "output_type": "stream",
     "text": [
      "c:\\users\\omar\\appdata\\local\\programs\\python\\python37\\lib\\site-packages\\ipykernel_launcher.py:4: SettingWithCopyWarning: \n",
      "A value is trying to be set on a copy of a slice from a DataFrame.\n",
      "Try using .loc[row_indexer,col_indexer] = value instead\n",
      "\n",
      "See the caveats in the documentation: https://pandas.pydata.org/pandas-docs/stable/user_guide/indexing.html#returning-a-view-versus-a-copy\n",
      "  after removing the cwd from sys.path.\n"
     ]
    },
    {
     "data": {
      "image/png": "[encoded data removed]",
      "text/plain": [
       "<Figure size 1152x576 with 1 Axes>"
      ]
     },
     "metadata": {
      "needs_background": "light"
     },
     "output_type": "display_data"
    }
   ],
   "source": [
    "#Plot/Create the data for the graph\n",
    "train = data[:training_data_len]\n",
    "valid = data[training_data_len:]\n",
    "valid['Predictions'] = predictions#Visualize the data\n",
    "plt.figure(figsize=(16,8))\n",
    "plt.title('Model')\n",
    "plt.xlabel('Date', fontsize=18)\n",
    "plt.ylabel('Cases', fontsize=18)\n",
    "plt.plot(train['Cases'])\n",
    "plt.plot(valid[['Cases', 'Predictions']])\n",
    "plt.show()"
   ]
  },
  {
   "cell_type": "code",
   "execution_count": 90,
   "metadata": {},
   "outputs": [
    {
     "data": {
      "text/plain": [
       "<bound method NDFrame.head of             Cases  Predictions\n",
       "Dates                         \n",
       "2020-04-12   1352  1387.574829\n",
       "2020-04-13   1378  1425.093628\n",
       "2020-04-14   1400  1454.600952\n",
       "2020-04-15   1415  1481.422852\n",
       "2020-04-16   1434  1502.818359\n",
       "2020-04-17   1482  1520.707153\n",
       "2020-04-18   1513  1540.744263\n",
       "2020-04-19   1539  1562.555664\n",
       "2020-04-20   1574  1585.092407\n",
       "2020-04-21   1602  1609.540405\n",
       "2020-04-22   1631  1634.254028>"
      ]
     },
     "execution_count": 90,
     "metadata": {},
     "output_type": "execute_result"
    }
   ],
   "source": [
    "valid.head"
   ]
  },
  {
   "cell_type": "code",
   "execution_count": 91,
   "metadata": {},
   "outputs": [
    {
     "data": {
      "text/plain": [
       "(1, 5, 1)"
      ]
     },
     "execution_count": 91,
     "metadata": {},
     "output_type": "execute_result"
    }
   ],
   "source": [
    "# actual predictions\n",
    "\n",
    "#Convert x_test to a numpy array \n",
    "x_test2 = np.array(data[:5])\n",
    "\n",
    "#Reshape the data into the shape accepted by the LSTM\n",
    "x_test2 = np.reshape(x_test2, (1,x_test2.shape[0],1))\n",
    "x_test2.shape"
   ]
  },
  {
   "cell_type": "code",
   "execution_count": 92,
   "metadata": {},
   "outputs": [
    {
     "data": {
      "text/plain": [
       "1696"
      ]
     },
     "execution_count": 92,
     "metadata": {},
     "output_type": "execute_result"
    }
   ],
   "source": [
    "#Getting the models predicted price values\n",
    "prediction = model.predict(x_test2) \n",
    "prediction = scaler.inverse_transform(prediction)#Undo scaling\n",
    "int(prediction[0][0])"
   ]
  },
  {
   "cell_type": "code",
   "execution_count": null,
   "metadata": {},
   "outputs": [],
   "source": []
  },
  {
   "cell_type": "code",
   "execution_count": null,
   "metadata": {},
   "outputs": [],
   "source": []
  }
 ],
 "metadata": {
  "kernelspec": {
   "display_name": "Python 3",
   "language": "python",
   "name": "python3"
  },
  "language_info": {
   "codemirror_mode": {
    "name": "ipython",
    "version": 3
   },
   "file_extension": ".py",
   "mimetype": "text/x-python",
   "name": "python",
   "nbconvert_exporter": "python",
   "pygments_lexer": "ipython3",
   "version": "3.7.4"
  }
 },
 "nbformat": 4,
 "nbformat_minor": 2
}
